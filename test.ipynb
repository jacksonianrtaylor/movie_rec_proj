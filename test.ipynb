{
 "cells": [
  {
   "cell_type": "code",
   "execution_count": 25,
   "metadata": {},
   "outputs": [
    {
     "name": "stderr",
     "output_type": "stream",
     "text": [
      "C:\\Users\\jackson\\AppData\\Local\\Temp\\ipykernel_31264\\607531092.py:6: DtypeWarning: Columns (10) have mixed types. Specify dtype option on import or set low_memory=False.\n",
      "  moviesFull2 = pd.read_csv('newdata/movies_metadata.csv')\n"
     ]
    },
    {
     "name": "stdout",
     "output_type": "stream",
     "text": [
      "Index(['cast', 'crew', 'id'], dtype='object')\n",
      "\n"
     ]
    }
   ],
   "source": [
    "import pandas as pd\n",
    "\n",
    "#need to cross validate...\n",
    "\n",
    "moviesFull1 = pd.read_csv('dataset/movie_dataset.csv')\n",
    "moviesFull2 = pd.read_csv('newdata/movies_metadata.csv')\n",
    "keywords = pd.read_csv('newdata/keywords.csv')\n",
    "credits = pd.read_csv('newdata/credits.csv')\n",
    "\n",
    "\n",
    "index =1\n",
    "\n",
    "f = open(\"text.txt\", \"a\")\n",
    "f.write(moviesFull1.loc[index]['keywords']+\"\\n\")\n",
    "f.write(moviesFull1.loc[index]['cast']+\"\\n\")\n",
    "f.write(moviesFull1.loc[index]['genres']+\"\\n\")\n",
    "f.write(moviesFull1.loc[index]['director']+\"\\n\")\n",
    "\n",
    "\n",
    "f.write(str(str(list(keywords[keywords[\"id\"] == int(moviesFull2[moviesFull2[\"title\"] == str(moviesFull1.loc[index][\"title\"])][\"id\"])]\n",
    "                     [\"keywords\"]))+ \"\\n\"))\n",
    "\n",
    "print(str(credits.columns)+ \"\\n\")\n",
    "f.write(str(credits.columns+ \"\\n\"))\n",
    "\n",
    "f.close()\n",
    "\n",
    "\n",
    "#note: both movie metadata sets have genres\n",
    "#but the bigger set does not have keywords cast director\n",
    "#instead keywords can be found in keywords data set\n",
    "#cast can be found in credits dataset and the\n",
    "#director can be found within credit of the credit data set\n",
    "\n"
   ]
  }
 ],
 "metadata": {
  "kernelspec": {
   "display_name": "venv",
   "language": "python",
   "name": "python3"
  },
  "language_info": {
   "codemirror_mode": {
    "name": "ipython",
    "version": 3
   },
   "file_extension": ".py",
   "mimetype": "text/x-python",
   "name": "python",
   "nbconvert_exporter": "python",
   "pygments_lexer": "ipython3",
   "version": "3.10.7"
  },
  "orig_nbformat": 4
 },
 "nbformat": 4,
 "nbformat_minor": 2
}
