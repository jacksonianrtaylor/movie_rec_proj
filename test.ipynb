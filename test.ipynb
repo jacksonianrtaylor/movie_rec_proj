{
 "cells": [
  {
   "cell_type": "code",
   "execution_count": 26,
   "metadata": {},
   "outputs": [
    {
     "name": "stdout",
     "output_type": "stream",
     "text": [
      "keywords    culture clash future space war space colony so...\n",
      "cast        Sam Worthington Zoe Saldana Sigourney Weaver S...\n",
      "genres               Action Adventure Fantasy Science Fiction\n",
      "director                                        James Cameron\n",
      "Name: 0, dtype: object\n",
      "Empty DataFrame\n",
      "Columns: [tagline, genres]\n",
      "Index: []\n",
      "14551    Enter the World of Pandora.\\n\n",
      "Name: tagline, dtype: object\n",
      "14551    [{'id': 28, 'name': 'Action'}, {'id': 12, 'nam...\n",
      "Name: genres, dtype: object\n"
     ]
    },
    {
     "name": "stderr",
     "output_type": "stream",
     "text": [
      "C:\\Users\\jackson\\AppData\\Local\\Temp\\ipykernel_24796\\2909130930.py:5: DtypeWarning: Columns (10) have mixed types. Specify dtype option on import or set low_memory=False.\n",
      "  moviesFull2 = pd.read_csv('newdata/movies_metadata.csv')\n"
     ]
    },
    {
     "ename": "ValueError",
     "evalue": "Can only compare identically-labeled Series objects",
     "output_type": "error",
     "traceback": [
      "\u001b[1;31m---------------------------------------------------------------------------\u001b[0m",
      "\u001b[1;31mValueError\u001b[0m                                Traceback (most recent call last)",
      "Cell \u001b[1;32mIn[26], line 23\u001b[0m\n\u001b[0;32m     20\u001b[0m \u001b[39mprint\u001b[39m(moviesFull2\u001b[39m.\u001b[39mloc[moviesFull2[\u001b[39m\"\u001b[39m\u001b[39mtitle\u001b[39m\u001b[39m\"\u001b[39m] \u001b[39m==\u001b[39m \u001b[39m\"\u001b[39m\u001b[39mAvatar\u001b[39m\u001b[39m\"\u001b[39m][\u001b[39m'\u001b[39m\u001b[39mtagline\u001b[39m\u001b[39m'\u001b[39m]\u001b[39m+\u001b[39m\u001b[39m\"\u001b[39m\u001b[39m\\n\u001b[39;00m\u001b[39m\"\u001b[39m)\n\u001b[0;32m     21\u001b[0m \u001b[39mprint\u001b[39m(moviesFull2\u001b[39m.\u001b[39mloc[moviesFull2[\u001b[39m\"\u001b[39m\u001b[39mtitle\u001b[39m\u001b[39m\"\u001b[39m] \u001b[39m==\u001b[39m \u001b[39m\"\u001b[39m\u001b[39mAvatar\u001b[39m\u001b[39m\"\u001b[39m][\u001b[39m'\u001b[39m\u001b[39mgenres\u001b[39m\u001b[39m'\u001b[39m]\u001b[39m+\u001b[39m\u001b[39m\"\u001b[39m\u001b[39m\\n\u001b[39;00m\u001b[39m\"\u001b[39m)\n\u001b[1;32m---> 23\u001b[0m \u001b[39mprint\u001b[39m(keywords[keywords[\u001b[39m\"\u001b[39;49m\u001b[39mid\u001b[39;49m\u001b[39m\"\u001b[39;49m] \u001b[39m==\u001b[39;49m moviesFull2\u001b[39m.\u001b[39;49mloc[moviesFull2[\u001b[39m\"\u001b[39;49m\u001b[39mtitle\u001b[39;49m\u001b[39m\"\u001b[39;49m] \u001b[39m==\u001b[39;49m \u001b[39m\"\u001b[39;49m\u001b[39mAvatar\u001b[39;49m\u001b[39m\"\u001b[39;49m][\u001b[39m\"\u001b[39;49m\u001b[39mid\u001b[39;49m\u001b[39m\"\u001b[39;49m]])\n\u001b[0;32m     27\u001b[0m f\u001b[39m.\u001b[39mclose()\n",
      "File \u001b[1;32md:\\repos\\movie_rec_proj\\venv\\lib\\site-packages\\pandas\\core\\ops\\common.py:72\u001b[0m, in \u001b[0;36m_unpack_zerodim_and_defer.<locals>.new_method\u001b[1;34m(self, other)\u001b[0m\n\u001b[0;32m     68\u001b[0m             \u001b[39mreturn\u001b[39;00m \u001b[39mNotImplemented\u001b[39m\n\u001b[0;32m     70\u001b[0m other \u001b[39m=\u001b[39m item_from_zerodim(other)\n\u001b[1;32m---> 72\u001b[0m \u001b[39mreturn\u001b[39;00m method(\u001b[39mself\u001b[39;49m, other)\n",
      "File \u001b[1;32md:\\repos\\movie_rec_proj\\venv\\lib\\site-packages\\pandas\\core\\arraylike.py:42\u001b[0m, in \u001b[0;36mOpsMixin.__eq__\u001b[1;34m(self, other)\u001b[0m\n\u001b[0;32m     40\u001b[0m \u001b[39m@unpack_zerodim_and_defer\u001b[39m(\u001b[39m\"\u001b[39m\u001b[39m__eq__\u001b[39m\u001b[39m\"\u001b[39m)\n\u001b[0;32m     41\u001b[0m \u001b[39mdef\u001b[39;00m \u001b[39m__eq__\u001b[39m(\u001b[39mself\u001b[39m, other):\n\u001b[1;32m---> 42\u001b[0m     \u001b[39mreturn\u001b[39;00m \u001b[39mself\u001b[39;49m\u001b[39m.\u001b[39;49m_cmp_method(other, operator\u001b[39m.\u001b[39;49meq)\n",
      "File \u001b[1;32md:\\repos\\movie_rec_proj\\venv\\lib\\site-packages\\pandas\\core\\series.py:6237\u001b[0m, in \u001b[0;36mSeries._cmp_method\u001b[1;34m(self, other, op)\u001b[0m\n\u001b[0;32m   6234\u001b[0m res_name \u001b[39m=\u001b[39m ops\u001b[39m.\u001b[39mget_op_result_name(\u001b[39mself\u001b[39m, other)\n\u001b[0;32m   6236\u001b[0m \u001b[39mif\u001b[39;00m \u001b[39misinstance\u001b[39m(other, Series) \u001b[39mand\u001b[39;00m \u001b[39mnot\u001b[39;00m \u001b[39mself\u001b[39m\u001b[39m.\u001b[39m_indexed_same(other):\n\u001b[1;32m-> 6237\u001b[0m     \u001b[39mraise\u001b[39;00m \u001b[39mValueError\u001b[39;00m(\u001b[39m\"\u001b[39m\u001b[39mCan only compare identically-labeled Series objects\u001b[39m\u001b[39m\"\u001b[39m)\n\u001b[0;32m   6239\u001b[0m lvalues \u001b[39m=\u001b[39m \u001b[39mself\u001b[39m\u001b[39m.\u001b[39m_values\n\u001b[0;32m   6240\u001b[0m rvalues \u001b[39m=\u001b[39m extract_array(other, extract_numpy\u001b[39m=\u001b[39m\u001b[39mTrue\u001b[39;00m, extract_range\u001b[39m=\u001b[39m\u001b[39mTrue\u001b[39;00m)\n",
      "\u001b[1;31mValueError\u001b[0m: Can only compare identically-labeled Series objects"
     ]
    }
   ],
   "source": [
    "import pandas as pd\n",
    "\n",
    "#need to cross validate...\n",
    "\n",
    "moviesFull1 = pd.read_csv('dataset/movie_dataset.csv')\n",
    "moviesFull2 = pd.read_csv('newdata/movies_metadata.csv')\n",
    "keywords = pd.read_csv('newdata/keywords.csv')\n",
    "\n",
    "print(moviesFull1.loc[0][['keywords','cast','genres','director']])\n",
    "\n",
    "print(moviesFull2.loc[moviesFull2[\"title\"] == \"avatar\"][['tagline','genres']])\n",
    "\n",
    "\n",
    "\n",
    "f = open(\"text.txt\", \"a\")\n",
    "f.write(moviesFull1.loc[0]['keywords']+\"\\n\")\n",
    "f.write(moviesFull1.loc[0]['cast']+\"\\n\")\n",
    "f.write(moviesFull1.loc[0]['genres']+\"\\n\")\n",
    "f.write(moviesFull1.loc[0]['director']+\"\\n\")\n",
    "\n",
    "print(moviesFull2.loc[moviesFull2[\"title\"] == \"Avatar\"]['tagline']+\"\\n\")\n",
    "print(moviesFull2.loc[moviesFull2[\"title\"] == \"Avatar\"]['genres']+\"\\n\")\n",
    "\n",
    "print(keywords.loc[keywords[\"id\"] == moviesFull2.loc[moviesFull2[\"title\"] == \"Avatar\"][\"id\"]])\n",
    "\n",
    "\n",
    "\n",
    "f.close()\n",
    "\n"
   ]
  }
 ],
 "metadata": {
  "kernelspec": {
   "display_name": "venv",
   "language": "python",
   "name": "python3"
  },
  "language_info": {
   "codemirror_mode": {
    "name": "ipython",
    "version": 3
   },
   "file_extension": ".py",
   "mimetype": "text/x-python",
   "name": "python",
   "nbconvert_exporter": "python",
   "pygments_lexer": "ipython3",
   "version": "3.10.7"
  },
  "orig_nbformat": 4
 },
 "nbformat": 4,
 "nbformat_minor": 2
}
