{
 "cells": [
  {
   "cell_type": "code",
   "execution_count": 8,
   "metadata": {},
   "outputs": [
    {
     "name": "stderr",
     "output_type": "stream",
     "text": [
      "C:\\Users\\jackson\\AppData\\Local\\Temp\\ipykernel_25764\\135711384.py:14: DtypeWarning: Columns (10) have mixed types. Specify dtype option on import or set low_memory=False.\n",
      "  moviesFull2 = pd.read_csv('newdata/movies_metadata.csv')\n"
     ]
    },
    {
     "name": "stdout",
     "output_type": "stream",
     "text": [
      "0       7.2\n",
      "1       6.9\n",
      "2       6.3\n",
      "3       7.6\n",
      "4       6.1\n",
      "       ... \n",
      "4798    6.6\n",
      "4799    5.9\n",
      "4800    7.0\n",
      "4801    5.7\n",
      "4802    6.3\n",
      "Name: vote_average, Length: 4803, dtype: float64\n",
      "0       [{\"name\": \"Ingenious Film Partners\", \"id\": 289...\n",
      "1       [{\"name\": \"Walt Disney Pictures\", \"id\": 2}, {\"...\n",
      "2       [{\"name\": \"Columbia Pictures\", \"id\": 5}, {\"nam...\n",
      "3       [{\"name\": \"Legendary Pictures\", \"id\": 923}, {\"...\n",
      "4             [{\"name\": \"Walt Disney Pictures\", \"id\": 2}]\n",
      "                              ...                        \n",
      "4798             [{\"name\": \"Columbia Pictures\", \"id\": 5}]\n",
      "4799                                                   []\n",
      "4800    [{\"name\": \"Front Street Pictures\", \"id\": 3958}...\n",
      "4801                                                   []\n",
      "4802    [{\"name\": \"rusty bear entertainment\", \"id\": 87...\n",
      "Name: production_companies, Length: 4803, dtype: object\n"
     ]
    }
   ],
   "source": [
    "import pandas as pd\n",
    "\n",
    "#need to cross validate...\n",
    "#instead of 600 users try 1000 users and see if the model improves with more data\n",
    "#use the full set of keywords instead from the big file rater tha the truncated one\n",
    "#it may also use the credits file to find more features (human cast)\n",
    "#note genres are the same in both data sets\n",
    "#the data should be cleaned and added into a new set of csv files\n",
    "#this set must be small enough to fit in a prject upload\n",
    "#overview from the big dataset should also be included\n",
    "#is average vote from 'newdata/movies_metadata.csv' the same as user ratings of that movie (maybe both can be used)\n",
    "#production companies\n",
    "\n",
    "#corpuse featurs (to combine for cossine similairity)\n",
    "#genres, overview, production_companies, tagline, cast, crew, keywords\n",
    "#quantitative: vote_average, rating, user rating average...\n",
    "\n",
    "\n",
    "moviesFull1 = pd.read_csv('dataset/movie_dataset.csv')\n",
    "moviesFull2 = pd.read_csv('newdata/movies_metadata.csv')\n",
    "keywords = pd.read_csv('newdata/keywords.csv')\n",
    "credits = pd.read_csv('newdata/credits.csv')\n",
    "\n",
    "\n",
    "index =3\n",
    "\n",
    "f = open(\"text.txt\", \"a\")\n",
    "f.write(moviesFull1.loc[index]['keywords']+\"\\n\")\n",
    "f.write(moviesFull1.loc[index]['cast']+\"\\n\")\n",
    "f.write(moviesFull1.loc[index]['genres']+\"\\n\")\n",
    "f.write(moviesFull1.loc[index]['director']+\"\\n\")\n",
    "\n",
    "\n",
    "f.write(str(list(moviesFull2[moviesFull2[\"title\"] == str(moviesFull1.loc[index][\"title\"])][\"genres\"]))+ \"\\n\")\n",
    "\n",
    "f.write(str(list(keywords[keywords[\"id\"] == int(moviesFull2[moviesFull2[\"title\"] == str(moviesFull1.loc[index][\"title\"])][\"id\"])]\n",
    "                     [\"keywords\"]))+ \"\\n\")\n",
    "\n",
    "f.write(str(credits.columns+ \"\\n\"))\n",
    "\n",
    "f.close()\n",
    "\n",
    "print(moviesFull1[\"vote_average\"])\n",
    "print(moviesFull1[\"production_companies\"])\n",
    "\n",
    "\n",
    "#note: both movie metadata sets have genres and they are the same\n",
    "#but the bigger set does not have keywords cast director\n",
    "#instead keywords can be found in keywords data set\n",
    "#cast can be found in credits dataset and the\n",
    "#director can be found within credit of the credit data set\n",
    "\n"
   ]
  }
 ],
 "metadata": {
  "kernelspec": {
   "display_name": "venv",
   "language": "python",
   "name": "python3"
  },
  "language_info": {
   "codemirror_mode": {
    "name": "ipython",
    "version": 3
   },
   "file_extension": ".py",
   "mimetype": "text/x-python",
   "name": "python",
   "nbconvert_exporter": "python",
   "pygments_lexer": "ipython3",
   "version": "3.10.7"
  },
  "orig_nbformat": 4
 },
 "nbformat": 4,
 "nbformat_minor": 2
}
