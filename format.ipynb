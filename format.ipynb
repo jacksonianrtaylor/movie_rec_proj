{
 "cells": [
  {
   "cell_type": "code",
   "execution_count": 38,
   "metadata": {},
   "outputs": [
    {
     "name": "stderr",
     "output_type": "stream",
     "text": [
      "C:\\Users\\Jackson Taylor\\AppData\\Local\\Temp\\ipykernel_20808\\1502780759.py:8: DtypeWarning: Columns (10) have mixed types. Specify dtype option on import or set low_memory=False.\n",
      "  moviesFull = pd.read_csv('newdata/movies_metadata.csv')\n"
     ]
    }
   ],
   "source": [
    "import pandas as pd\n",
    "\n",
    "\n",
    "#corpuse featurs (to combine for cossine similairity)\n",
    "#genres, overview, production_companies, tagline, cast, crew, keywords\n",
    "#quantitative: vote_average, rating, user rating average...\n",
    "\n",
    "moviesFull = pd.read_csv('newdata/movies_metadata.csv')\n",
    "ratings = pd.read_csv('newdata/ratings.csv')\n",
    "keywords = pd.read_csv('newdata/keywords.csv')\n",
    "credits = pd.read_csv(\"newdata/credits.csv\")\n",
    "\n",
    "#take a thousand users\n",
    "userDict = dict()\n",
    "movieIds = set()\n",
    "for i in range(1, 1001):\n",
    "\n",
    "    tmp = ratings[ratings[\"userId\"] ==i]\n",
    "\n",
    "    filtered = []\n",
    "    for id,rating in zip(list(tmp[\"movieId\"]), list(tmp[\"rating\"])):\n",
    "        #add other filters here\n",
    "        if (id in keywords[\"id\"]) and (id in credits[\"id\"]) and len(keywords.loc[keywords[\"id\"] ==id][\"keywords\"])!=0:\n",
    "            filtered.append([id, rating])\n",
    "            movieIds.add(id)\n",
    "\n",
    "\n",
    "    userDict[i] = filtered\n",
    "\n",
    "\n",
    "\n",
    "#need to remove movies that do  not have keywords...\n",
    "#and users that do not have any ratings\n",
    "\n",
    "\n"
   ]
  },
  {
   "cell_type": "code",
   "execution_count": 100,
   "metadata": {},
   "outputs": [
    {
     "name": "stdout",
     "output_type": "stream",
     "text": [
      "      id                                           keywords\n",
      "4342   2  [{'id': 240, 'name': 'underdog'}, {'id': 378, ...\n"
     ]
    },
    {
     "ename": "TypeError",
     "evalue": "string indices must be integers, not 'str'",
     "output_type": "error",
     "traceback": [
      "\u001b[1;31m---------------------------------------------------------------------------\u001b[0m",
      "\u001b[1;31mTypeError\u001b[0m                                 Traceback (most recent call last)",
      "Cell \u001b[1;32mIn[100], line 7\u001b[0m\n\u001b[0;32m      4\u001b[0m \u001b[39mfor\u001b[39;00m i \u001b[39min\u001b[39;00m movieIds:\n\u001b[0;32m      5\u001b[0m     \u001b[39mprint\u001b[39m(keywords\u001b[39m.\u001b[39miloc[keywords[keywords[\u001b[39m\"\u001b[39m\u001b[39mid\u001b[39m\u001b[39m\"\u001b[39m] \u001b[39m==\u001b[39m i]\u001b[39m.\u001b[39mindex])\n\u001b[1;32m----> 7\u001b[0m     keywordsDict[i] \u001b[39m=\u001b[39m [item[\u001b[39m\"\u001b[39;49m\u001b[39mname\u001b[39;49m\u001b[39m\"\u001b[39;49m] \u001b[39mfor\u001b[39;49;00m item \u001b[39min\u001b[39;49;00m keywords[keywords[\u001b[39m\"\u001b[39;49m\u001b[39mid\u001b[39;49m\u001b[39m\"\u001b[39;49m] \u001b[39m==\u001b[39;49m i][\u001b[39m\"\u001b[39;49m\u001b[39mkeywords\u001b[39;49m\u001b[39m\"\u001b[39;49m]\u001b[39m.\u001b[39;49miloc[\u001b[39m0\u001b[39;49m]]\n\u001b[0;32m     10\u001b[0m \u001b[39mprint\u001b[39m(keywordsDict)\n",
      "Cell \u001b[1;32mIn[100], line 7\u001b[0m, in \u001b[0;36m<listcomp>\u001b[1;34m(.0)\u001b[0m\n\u001b[0;32m      4\u001b[0m \u001b[39mfor\u001b[39;00m i \u001b[39min\u001b[39;00m movieIds:\n\u001b[0;32m      5\u001b[0m     \u001b[39mprint\u001b[39m(keywords\u001b[39m.\u001b[39miloc[keywords[keywords[\u001b[39m\"\u001b[39m\u001b[39mid\u001b[39m\u001b[39m\"\u001b[39m] \u001b[39m==\u001b[39m i]\u001b[39m.\u001b[39mindex])\n\u001b[1;32m----> 7\u001b[0m     keywordsDict[i] \u001b[39m=\u001b[39m [item[\u001b[39m\"\u001b[39;49m\u001b[39mname\u001b[39;49m\u001b[39m\"\u001b[39;49m] \u001b[39mfor\u001b[39;00m item \u001b[39min\u001b[39;00m keywords[keywords[\u001b[39m\"\u001b[39m\u001b[39mid\u001b[39m\u001b[39m\"\u001b[39m] \u001b[39m==\u001b[39m i][\u001b[39m\"\u001b[39m\u001b[39mkeywords\u001b[39m\u001b[39m\"\u001b[39m]\u001b[39m.\u001b[39miloc[\u001b[39m0\u001b[39m]]\n\u001b[0;32m     10\u001b[0m \u001b[39mprint\u001b[39m(keywordsDict)\n",
      "\u001b[1;31mTypeError\u001b[0m: string indices must be integers, not 'str'"
     ]
    }
   ],
   "source": [
    "keywordsDict = dict()\n",
    "\n",
    "\n",
    "for i in movieIds:\n",
    "    print(keywords.iloc[keywords[keywords[\"id\"] == i].index])\n",
    "\n",
    "    keywordsDict[i] = [item[\"name\"] for item in keywords[keywords[\"id\"] == i][\"keywords\"].iloc[0]]\n",
    "\n",
    "\n",
    "print(keywordsDict)"
   ]
  }
 ],
 "metadata": {
  "kernelspec": {
   "display_name": "venv",
   "language": "python",
   "name": "python3"
  },
  "language_info": {
   "codemirror_mode": {
    "name": "ipython",
    "version": 3
   },
   "file_extension": ".py",
   "mimetype": "text/x-python",
   "name": "python",
   "nbconvert_exporter": "python",
   "pygments_lexer": "ipython3",
   "version": "3.11.2"
  },
  "orig_nbformat": 4
 },
 "nbformat": 4,
 "nbformat_minor": 2
}
