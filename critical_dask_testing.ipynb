{
 "cells": [
  {
   "cell_type": "code",
   "execution_count": 5,
   "metadata": {},
   "outputs": [
    {
     "name": "stdout",
     "output_type": "stream",
     "text": [
      "[[1.]\n",
      " [1.]]\n"
     ]
    }
   ],
   "source": [
    "import dask.array as da\n",
    "import numpy as np\n",
    "\n",
    "def func(block):\n",
    "    # print(block)\n",
    "\n",
    "    first  = block[0][0][0] + block[0][0][1] + block[0][0][2]+ block[0][1] + block[0][2] + block[0][3]\n",
    "    # second = block[1][0][0] + block[1][0][1] + block[1][0][2] + block[1][1] + block[1][2] + block[1][3]\n",
    "\n",
    "    #you need to return data with a specific type \n",
    "    # return (np.array([[5,6,7,8],[5,6,7,8]], dtype=\"object\"))\n",
    "    #you need to return data with a specific type \n",
    "    # return (np.array([[[1,2,3], 2, 3, 4], [[1,2,3], 2, 3, 4]], dtype=\"object\"))\n",
    "    #try returning something with diff dimension:\n",
    "    return (np.array([[1]], dtype=\"float32\"))\n",
    "\n",
    "\n",
    "\n",
    "\n",
    "# def func(block):\n",
    "#     print(block)\n",
    "#     # Perform some operation on the block, for example, doubling each element\n",
    "#     return 2 * block\n",
    "\n",
    "raw_list = [[[1,2,3], 2, 3, 4], [[1,2,3], 2, 3, 4], [[1,2,3], 2, 3, 4], [[1,2,3], 2, 3, 4]]\n",
    "# raw_list = [[1,2, 3, 4], [1,2, 3, 4], [1,2, 3, 4], [1,2, 3, 4]]\n",
    "\n",
    "\n",
    "new_list = np.array(raw_list.copy(), dtype=\"object\")\n",
    "# new_list = np.array(raw_list.copy(), dtype=\"float32\")\n",
    "\n",
    "new_list = da.from_array(new_list.copy(), chunks=(2, 4))\n",
    "\n",
    "# result1 = new_list.map_blocks(func, dtype=\"object\").compute()\n",
    "# result1 = new_list.map_blocks(func, dtype=\"float32\").compute()\n",
    "result1 = new_list.map_blocks(func, chunks = (1,1), dtype=\"float32\").compute()\n",
    "\n",
    "print(result1)\n"
   ]
  },
  {
   "cell_type": "code",
   "execution_count": 1,
   "metadata": {},
   "outputs": [],
   "source": [
    "from multiprocessing import Pool\n",
    "\n",
    "\n",
    "def your_function(item):\n",
    "    return item*2\n",
    "\n",
    "\n",
    "data = [1,2,3,4,5]  # Your data\n",
    "\n",
    "with Pool() as pool:\n",
    "    results = pool.map(your_function, data)"
   ]
  }
 ],
 "metadata": {
  "kernelspec": {
   "display_name": "venv",
   "language": "python",
   "name": "python3"
  },
  "language_info": {
   "codemirror_mode": {
    "name": "ipython",
    "version": 3
   },
   "file_extension": ".py",
   "mimetype": "text/x-python",
   "name": "python",
   "nbconvert_exporter": "python",
   "pygments_lexer": "ipython3",
   "version": "3.10.7"
  }
 },
 "nbformat": 4,
 "nbformat_minor": 2
}
