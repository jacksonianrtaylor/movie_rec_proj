{
 "cells": [
  {
   "cell_type": "code",
   "execution_count": 20,
   "metadata": {},
   "outputs": [
    {
     "name": "stdout",
     "output_type": "stream",
     "text": [
      "[1. 1.]\n"
     ]
    }
   ],
   "source": [
    "from dask.distributed import Client, LocalCluster\n",
    "\n",
    "# Set up a local cluster using all available cores\n",
    "# cluster = LocalCluster()\n",
    "# client = Client(cluster)\n",
    "\n",
    "\n",
    "import numpy as np\n",
    "import dask.array as da\n",
    "\n",
    "\n",
    "#LOOK: map_block expects blocked_func to return an array of the same shape of its input (chunks_row, chunks_col)\n",
    "\n",
    "\n",
    "def func(input):\n",
    "    return np.array([1.0,1.0])\n",
    "\n",
    "\n",
    "\n",
    "\n",
    "\n",
    "# objects_array = np.array([[1,2,3,4],[1,2,3,4],[1,2,3,4],[1,2,3,4]], dtype=object)\n",
    "\n",
    "\n",
    "# list_1 = [[1,2,3,4],[1,2,3,4],[1,2,3,4],[1,2,3,4]]\n",
    "# array = np.array(list_1)\n",
    "\n",
    "# print(array)\n",
    "\n",
    "# # object_array = array.ravel().astype(object)\n",
    "\n",
    "# object_array = np.array([tuple(element) for element in array], dtype=object)\n",
    "\n",
    "\n",
    "# print(objects_array)\n",
    "\n",
    "# print(objects_array.ndim)\n",
    "\n",
    "list = [[1,2,3,4],[1,2,3,4],[1,2,3,4],[1,2,3,4]]\n",
    "\n",
    "\n",
    "\n",
    "# x_1 = da.from_array(list.copy(), chunks=(4,4))\n",
    "x_2 = da.from_array(list.copy(), chunks=(4,4))\n",
    "\n",
    "# result_1 = x_1.map_blocks(func, dtype='float64').compute()\n",
    "# print(result_1)\n",
    "\n",
    "result_2 = x_2.map_blocks(func, chunks=(1,1), dtype='float32').compute()\n",
    "print(result_2)\n",
    "\n",
    "\n",
    "# client.close()\n",
    "# cluster.close()"
   ]
  },
  {
   "cell_type": "code",
   "execution_count": 9,
   "metadata": {},
   "outputs": [
    {
     "name": "stdout",
     "output_type": "stream",
     "text": [
      "[[1 2]\n",
      " [3 4]\n",
      " [6 7]]\n"
     ]
    }
   ],
   "source": [
    "# List of objects (lists with varying lengths)\n",
    "objects_list = [[1, 2], [3, 4, 5], [6, 7]]\n",
    "\n",
    "# Create a 1D array of objects with dtype=object\n",
    "objects_array = np.array(objects_list, dtype=object)\n",
    "\n",
    "# Print the array\n",
    "print(objects_array)"
   ]
  }
 ],
 "metadata": {
  "kernelspec": {
   "display_name": "venv",
   "language": "python",
   "name": "python3"
  },
  "language_info": {
   "codemirror_mode": {
    "name": "ipython",
    "version": 3
   },
   "file_extension": ".py",
   "mimetype": "text/x-python",
   "name": "python",
   "nbconvert_exporter": "python",
   "pygments_lexer": "ipython3",
   "version": "3.10.7"
  }
 },
 "nbformat": 4,
 "nbformat_minor": 2
}
